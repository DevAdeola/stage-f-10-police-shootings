{
  "nbformat": 4,
  "nbformat_minor": 0,
  "metadata": {
    "colab": {
      "name": "Police shooting",
      "provenance": [],
      "collapsed_sections": [],
      "authorship_tag": "ABX9TyP2/qvh9VPiO6dkzfGjqTfK",
      "include_colab_link": true
    },
    "kernelspec": {
      "name": "python3",
      "display_name": "Python 3"
    }
  },
  "cells": [
    {
      "cell_type": "markdown",
      "metadata": {
        "id": "view-in-github",
        "colab_type": "text"
      },
      "source": [
        "<a href=\"https://colab.research.google.com/github/Joe-brands/stage-f-10-police-shootings/blob/master/Police_shooting.ipynb\" target=\"_parent\"><img src=\"https://colab.research.google.com/assets/colab-badge.svg\" alt=\"Open In Colab\"/></a>"
      ]
    },
    {
      "cell_type": "code",
      "metadata": {
        "id": "EVptLVae86_6"
      },
      "source": [
        ""
      ],
      "execution_count": 83,
      "outputs": []
    },
    {
      "cell_type": "code",
      "metadata": {
        "id": "6JGo3nDi9IFp",
        "outputId": "0a0ab4ee-b9cd-43b9-bea8-0950f1230537",
        "colab": {
          "base_uri": "https://localhost:8080/"
        }
      },
      "source": [
        "from google.colab import drive \n",
        "drive.mount('/content/gdrive')"
      ],
      "execution_count": 84,
      "outputs": [
        {
          "output_type": "stream",
          "text": [
            "Drive already mounted at /content/gdrive; to attempt to forcibly remount, call drive.mount(\"/content/gdrive\", force_remount=True).\n"
          ],
          "name": "stdout"
        }
      ]
    },
    {
      "cell_type": "code",
      "metadata": {
        "id": "e46g_73y9J8_",
        "outputId": "0c271a44-c65d-4a99-8462-4e096a96fc97",
        "colab": {
          "base_uri": "https://localhost:8080/"
        }
      },
      "source": [
        "!ls \"/content/gdrive/My Drive\""
      ],
      "execution_count": 85,
      "outputs": [
        {
          "output_type": "stream",
          "text": [
            "'Colab Notebooks'\t\t   kaggle\t\t       shootings.csv\n",
            " household_power_consumption.zip  'my kaggle screenshot.jpg'\n"
          ],
          "name": "stdout"
        }
      ]
    },
    {
      "cell_type": "code",
      "metadata": {
        "id": "bn3fid0fbexO",
        "outputId": "f58750af-8894-4362-acc6-90306521247a",
        "colab": {
          "base_uri": "https://localhost:8080/"
        }
      },
      "source": [
        "!ls \"/content\""
      ],
      "execution_count": 86,
      "outputs": [
        {
          "output_type": "stream",
          "text": [
            "gdrive\tsample_data\n"
          ],
          "name": "stdout"
        }
      ]
    },
    {
      "cell_type": "code",
      "metadata": {
        "id": "isxzl7AP9NdD"
      },
      "source": [
        "import numpy as np\n",
        "import pandas as pd\n",
        "import datetime"
      ],
      "execution_count": 87,
      "outputs": []
    },
    {
      "cell_type": "code",
      "metadata": {
        "id": "01vKtYDo9sYn",
        "outputId": "4da1f151-13aa-4e86-f3ca-faea40910e24",
        "colab": {
          "base_uri": "https://localhost:8080/",
          "height": 305
        }
      },
      "source": [
        "data = pd.read_csv('/content/gdrive/My Drive/shootings.csv')\n",
        "data.head()"
      ],
      "execution_count": 88,
      "outputs": [
        {
          "output_type": "execute_result",
          "data": {
            "text/html": [
              "<div>\n",
              "<style scoped>\n",
              "    .dataframe tbody tr th:only-of-type {\n",
              "        vertical-align: middle;\n",
              "    }\n",
              "\n",
              "    .dataframe tbody tr th {\n",
              "        vertical-align: top;\n",
              "    }\n",
              "\n",
              "    .dataframe thead th {\n",
              "        text-align: right;\n",
              "    }\n",
              "</style>\n",
              "<table border=\"1\" class=\"dataframe\">\n",
              "  <thead>\n",
              "    <tr style=\"text-align: right;\">\n",
              "      <th></th>\n",
              "      <th>id</th>\n",
              "      <th>name</th>\n",
              "      <th>date</th>\n",
              "      <th>manner_of_death</th>\n",
              "      <th>armed</th>\n",
              "      <th>age</th>\n",
              "      <th>gender</th>\n",
              "      <th>race</th>\n",
              "      <th>city</th>\n",
              "      <th>state</th>\n",
              "      <th>signs_of_mental_illness</th>\n",
              "      <th>threat_level</th>\n",
              "      <th>flee</th>\n",
              "      <th>body_camera</th>\n",
              "      <th>arms_category</th>\n",
              "    </tr>\n",
              "  </thead>\n",
              "  <tbody>\n",
              "    <tr>\n",
              "      <th>0</th>\n",
              "      <td>3</td>\n",
              "      <td>Tim Elliot</td>\n",
              "      <td>2015-01-02</td>\n",
              "      <td>shot</td>\n",
              "      <td>gun</td>\n",
              "      <td>53.0</td>\n",
              "      <td>M</td>\n",
              "      <td>Asian</td>\n",
              "      <td>Shelton</td>\n",
              "      <td>WA</td>\n",
              "      <td>True</td>\n",
              "      <td>attack</td>\n",
              "      <td>Not fleeing</td>\n",
              "      <td>False</td>\n",
              "      <td>Guns</td>\n",
              "    </tr>\n",
              "    <tr>\n",
              "      <th>1</th>\n",
              "      <td>4</td>\n",
              "      <td>Lewis Lee Lembke</td>\n",
              "      <td>2015-01-02</td>\n",
              "      <td>shot</td>\n",
              "      <td>gun</td>\n",
              "      <td>47.0</td>\n",
              "      <td>M</td>\n",
              "      <td>White</td>\n",
              "      <td>Aloha</td>\n",
              "      <td>OR</td>\n",
              "      <td>False</td>\n",
              "      <td>attack</td>\n",
              "      <td>Not fleeing</td>\n",
              "      <td>False</td>\n",
              "      <td>Guns</td>\n",
              "    </tr>\n",
              "    <tr>\n",
              "      <th>2</th>\n",
              "      <td>5</td>\n",
              "      <td>John Paul Quintero</td>\n",
              "      <td>2015-01-03</td>\n",
              "      <td>shot and Tasered</td>\n",
              "      <td>unarmed</td>\n",
              "      <td>23.0</td>\n",
              "      <td>M</td>\n",
              "      <td>Hispanic</td>\n",
              "      <td>Wichita</td>\n",
              "      <td>KS</td>\n",
              "      <td>False</td>\n",
              "      <td>other</td>\n",
              "      <td>Not fleeing</td>\n",
              "      <td>False</td>\n",
              "      <td>Unarmed</td>\n",
              "    </tr>\n",
              "    <tr>\n",
              "      <th>3</th>\n",
              "      <td>8</td>\n",
              "      <td>Matthew Hoffman</td>\n",
              "      <td>2015-01-04</td>\n",
              "      <td>shot</td>\n",
              "      <td>toy weapon</td>\n",
              "      <td>32.0</td>\n",
              "      <td>M</td>\n",
              "      <td>White</td>\n",
              "      <td>San Francisco</td>\n",
              "      <td>CA</td>\n",
              "      <td>True</td>\n",
              "      <td>attack</td>\n",
              "      <td>Not fleeing</td>\n",
              "      <td>False</td>\n",
              "      <td>Other unusual objects</td>\n",
              "    </tr>\n",
              "    <tr>\n",
              "      <th>4</th>\n",
              "      <td>9</td>\n",
              "      <td>Michael Rodriguez</td>\n",
              "      <td>2015-01-04</td>\n",
              "      <td>shot</td>\n",
              "      <td>nail gun</td>\n",
              "      <td>39.0</td>\n",
              "      <td>M</td>\n",
              "      <td>Hispanic</td>\n",
              "      <td>Evans</td>\n",
              "      <td>CO</td>\n",
              "      <td>False</td>\n",
              "      <td>attack</td>\n",
              "      <td>Not fleeing</td>\n",
              "      <td>False</td>\n",
              "      <td>Piercing objects</td>\n",
              "    </tr>\n",
              "  </tbody>\n",
              "</table>\n",
              "</div>"
            ],
            "text/plain": [
              "   id                name  ... body_camera          arms_category\n",
              "0   3          Tim Elliot  ...       False                   Guns\n",
              "1   4    Lewis Lee Lembke  ...       False                   Guns\n",
              "2   5  John Paul Quintero  ...       False                Unarmed\n",
              "3   8     Matthew Hoffman  ...       False  Other unusual objects\n",
              "4   9   Michael Rodriguez  ...       False       Piercing objects\n",
              "\n",
              "[5 rows x 15 columns]"
            ]
          },
          "metadata": {
            "tags": []
          },
          "execution_count": 88
        }
      ]
    },
    {
      "cell_type": "code",
      "metadata": {
        "id": "aNifK_Vp9tlt",
        "outputId": "479ae521-ef89-4a3d-835d-adaf91a318e4",
        "colab": {
          "base_uri": "https://localhost:8080/"
        }
      },
      "source": [
        "data.shape"
      ],
      "execution_count": 89,
      "outputs": [
        {
          "output_type": "execute_result",
          "data": {
            "text/plain": [
              "(4895, 15)"
            ]
          },
          "metadata": {
            "tags": []
          },
          "execution_count": 89
        }
      ]
    },
    {
      "cell_type": "code",
      "metadata": {
        "id": "SsSVu4c4c59X",
        "outputId": "f28b2e50-0d9e-49fe-eb39-73c0c32a9f0b",
        "colab": {
          "base_uri": "https://localhost:8080/",
          "height": 561
        }
      },
      "source": [
        "import missingno as msno\n",
        "msno.matrix(data)"
      ],
      "execution_count": 90,
      "outputs": [
        {
          "output_type": "execute_result",
          "data": {
            "text/plain": [
              "<matplotlib.axes._subplots.AxesSubplot at 0x7ff8da283cc0>"
            ]
          },
          "metadata": {
            "tags": []
          },
          "execution_count": 90
        },
        {
          "output_type": "display_data",
          "data": {
            "image/png": "[encoded data removed]",
            "text/plain": [
              "<Figure size 1800x720 with 2 Axes>"
            ]
          },
          "metadata": {
            "tags": [],
            "needs_background": "light"
          }
        }
      ]
    },
    {
      "cell_type": "code",
      "metadata": {
        "id": "AhnBgp0q9x4v",
        "outputId": "19985d87-e1eb-4114-84b7-c90fcf3741b7",
        "colab": {
          "base_uri": "https://localhost:8080/",
          "height": 180
        }
      },
      "source": [
        "# Converting date to datetime\n",
        "\n",
        "data['day'] = pd.DatetimeIndex(data['date']).day\n",
        "data['month'] = pd.DatetimeIndex(data['date']).month\n",
        "data['year'] = pd.DatetimeIndex(data['date']).year\n",
        "\n",
        "data.head(2)"
      ],
      "execution_count": 91,
      "outputs": [
        {
          "output_type": "execute_result",
          "data": {
            "text/html": [
              "<div>\n",
              "<style scoped>\n",
              "    .dataframe tbody tr th:only-of-type {\n",
              "        vertical-align: middle;\n",
              "    }\n",
              "\n",
              "    .dataframe tbody tr th {\n",
              "        vertical-align: top;\n",
              "    }\n",
              "\n",
              "    .dataframe thead th {\n",
              "        text-align: right;\n",
              "    }\n",
              "</style>\n",
              "<table border=\"1\" class=\"dataframe\">\n",
              "  <thead>\n",
              "    <tr style=\"text-align: right;\">\n",
              "      <th></th>\n",
              "      <th>id</th>\n",
              "      <th>name</th>\n",
              "      <th>date</th>\n",
              "      <th>manner_of_death</th>\n",
              "      <th>armed</th>\n",
              "      <th>age</th>\n",
              "      <th>gender</th>\n",
              "      <th>race</th>\n",
              "      <th>city</th>\n",
              "      <th>state</th>\n",
              "      <th>signs_of_mental_illness</th>\n",
              "      <th>threat_level</th>\n",
              "      <th>flee</th>\n",
              "      <th>body_camera</th>\n",
              "      <th>arms_category</th>\n",
              "      <th>day</th>\n",
              "      <th>month</th>\n",
              "      <th>year</th>\n",
              "    </tr>\n",
              "  </thead>\n",
              "  <tbody>\n",
              "    <tr>\n",
              "      <th>0</th>\n",
              "      <td>3</td>\n",
              "      <td>Tim Elliot</td>\n",
              "      <td>2015-01-02</td>\n",
              "      <td>shot</td>\n",
              "      <td>gun</td>\n",
              "      <td>53.0</td>\n",
              "      <td>M</td>\n",
              "      <td>Asian</td>\n",
              "      <td>Shelton</td>\n",
              "      <td>WA</td>\n",
              "      <td>True</td>\n",
              "      <td>attack</td>\n",
              "      <td>Not fleeing</td>\n",
              "      <td>False</td>\n",
              "      <td>Guns</td>\n",
              "      <td>2</td>\n",
              "      <td>1</td>\n",
              "      <td>2015</td>\n",
              "    </tr>\n",
              "    <tr>\n",
              "      <th>1</th>\n",
              "      <td>4</td>\n",
              "      <td>Lewis Lee Lembke</td>\n",
              "      <td>2015-01-02</td>\n",
              "      <td>shot</td>\n",
              "      <td>gun</td>\n",
              "      <td>47.0</td>\n",
              "      <td>M</td>\n",
              "      <td>White</td>\n",
              "      <td>Aloha</td>\n",
              "      <td>OR</td>\n",
              "      <td>False</td>\n",
              "      <td>attack</td>\n",
              "      <td>Not fleeing</td>\n",
              "      <td>False</td>\n",
              "      <td>Guns</td>\n",
              "      <td>2</td>\n",
              "      <td>1</td>\n",
              "      <td>2015</td>\n",
              "    </tr>\n",
              "  </tbody>\n",
              "</table>\n",
              "</div>"
            ],
            "text/plain": [
              "   id              name        date  ... day month  year\n",
              "0   3        Tim Elliot  2015-01-02  ...   2     1  2015\n",
              "1   4  Lewis Lee Lembke  2015-01-02  ...   2     1  2015\n",
              "\n",
              "[2 rows x 18 columns]"
            ]
          },
          "metadata": {
            "tags": []
          },
          "execution_count": 91
        }
      ]
    },
    {
      "cell_type": "code",
      "metadata": {
        "id": "ygOOavhl94PB"
      },
      "source": [
        "def f(row):\n",
        "  '''\n",
        "  Function that will be used to create the target column of two classes 1 and 0.\n",
        "  Where 1 represents the unjustified cases and 0 represents the just ones. \n",
        "  '''\n",
        "  if ((row['threat_level']=='undetermined' or row['threat_level']=='other') and (row['flee']=='Not fleeing')):\n",
        "        val = 1\n",
        "    \n",
        "  else:\n",
        "        val = 0\n",
        "  return val\n",
        "\n",
        "# Applying the function\n",
        "data['label'] = data.apply(f, axis=1)"
      ],
      "execution_count": 92,
      "outputs": []
    },
    {
      "cell_type": "code",
      "metadata": {
        "id": "_-436IJs9-63",
        "outputId": "569b2e6a-fe27-494d-fd8a-4b56154edaec",
        "colab": {
          "base_uri": "https://localhost:8080/"
        }
      },
      "source": [
        "\n",
        "data['label'].value_counts()"
      ],
      "execution_count": 93,
      "outputs": [
        {
          "output_type": "execute_result",
          "data": {
            "text/plain": [
              "0    3829\n",
              "1    1066\n",
              "Name: label, dtype: int64"
            ]
          },
          "metadata": {
            "tags": []
          },
          "execution_count": 93
        }
      ]
    },
    {
      "cell_type": "code",
      "metadata": {
        "id": "W0Y-eFeS-Ck_"
      },
      "source": [
        "\n",
        "# Train and test df\n",
        "from sklearn.model_selection import train_test_split\n",
        "train_df, test_df = train_test_split(data, test_size=0.20, random_state=100)"
      ],
      "execution_count": 94,
      "outputs": []
    },
    {
      "cell_type": "code",
      "metadata": {
        "id": "SunD9zR8-L1L"
      },
      "source": [
        "# encoding categorical columns\n",
        "from sklearn.preprocessing import LabelEncoder\n",
        "cat_cols = ['armed','city','state','manner_of_death','gender','race','signs_of_mental_illness',\n",
        "             'year','threat_level','flee','body_camera','arms_category']\n",
        "encoder = LabelEncoder()\n",
        "\n",
        "# Apply label encoder to each column\n",
        "encoded = data[cat_cols].apply(encoder.fit_transform)"
      ],
      "execution_count": 95,
      "outputs": []
    },
    {
      "cell_type": "code",
      "metadata": {
        "id": "XPDXguhR-UNU",
        "outputId": "0dbbf57e-46e4-4d5d-89d1-5d729c893806",
        "colab": {
          "base_uri": "https://localhost:8080/",
          "height": 108
        }
      },
      "source": [
        "encoded.head(2)"
      ],
      "execution_count": 96,
      "outputs": [
        {
          "output_type": "execute_result",
          "data": {
            "text/html": [
              "<div>\n",
              "<style scoped>\n",
              "    .dataframe tbody tr th:only-of-type {\n",
              "        vertical-align: middle;\n",
              "    }\n",
              "\n",
              "    .dataframe tbody tr th {\n",
              "        vertical-align: top;\n",
              "    }\n",
              "\n",
              "    .dataframe thead th {\n",
              "        text-align: right;\n",
              "    }\n",
              "</style>\n",
              "<table border=\"1\" class=\"dataframe\">\n",
              "  <thead>\n",
              "    <tr style=\"text-align: right;\">\n",
              "      <th></th>\n",
              "      <th>armed</th>\n",
              "      <th>city</th>\n",
              "      <th>state</th>\n",
              "      <th>manner_of_death</th>\n",
              "      <th>gender</th>\n",
              "      <th>race</th>\n",
              "      <th>signs_of_mental_illness</th>\n",
              "      <th>year</th>\n",
              "      <th>threat_level</th>\n",
              "      <th>flee</th>\n",
              "      <th>body_camera</th>\n",
              "      <th>arms_category</th>\n",
              "    </tr>\n",
              "  </thead>\n",
              "  <tbody>\n",
              "    <tr>\n",
              "      <th>0</th>\n",
              "      <td>35</td>\n",
              "      <td>1889</td>\n",
              "      <td>47</td>\n",
              "      <td>0</td>\n",
              "      <td>1</td>\n",
              "      <td>0</td>\n",
              "      <td>1</td>\n",
              "      <td>0</td>\n",
              "      <td>0</td>\n",
              "      <td>2</td>\n",
              "      <td>0</td>\n",
              "      <td>3</td>\n",
              "    </tr>\n",
              "    <tr>\n",
              "      <th>1</th>\n",
              "      <td>35</td>\n",
              "      <td>33</td>\n",
              "      <td>37</td>\n",
              "      <td>0</td>\n",
              "      <td>1</td>\n",
              "      <td>5</td>\n",
              "      <td>0</td>\n",
              "      <td>0</td>\n",
              "      <td>0</td>\n",
              "      <td>2</td>\n",
              "      <td>0</td>\n",
              "      <td>3</td>\n",
              "    </tr>\n",
              "  </tbody>\n",
              "</table>\n",
              "</div>"
            ],
            "text/plain": [
              "   armed  city  state  ...  flee  body_camera  arms_category\n",
              "0     35  1889     47  ...     2            0              3\n",
              "1     35    33     37  ...     2            0              3\n",
              "\n",
              "[2 rows x 12 columns]"
            ]
          },
          "metadata": {
            "tags": []
          },
          "execution_count": 96
        }
      ]
    },
    {
      "cell_type": "code",
      "metadata": {
        "id": "YeP6NqMN-YyV",
        "outputId": "a2bcb059-d145-48ed-aa5f-424ac70d8048",
        "colab": {
          "base_uri": "https://localhost:8080/",
          "height": 305
        }
      },
      "source": [
        "\n",
        "# join some important data features with the encoded variables\n",
        "df = data[['name','date','age','label']].join(encoded)\n",
        "df.head()"
      ],
      "execution_count": 97,
      "outputs": [
        {
          "output_type": "execute_result",
          "data": {
            "text/html": [
              "<div>\n",
              "<style scoped>\n",
              "    .dataframe tbody tr th:only-of-type {\n",
              "        vertical-align: middle;\n",
              "    }\n",
              "\n",
              "    .dataframe tbody tr th {\n",
              "        vertical-align: top;\n",
              "    }\n",
              "\n",
              "    .dataframe thead th {\n",
              "        text-align: right;\n",
              "    }\n",
              "</style>\n",
              "<table border=\"1\" class=\"dataframe\">\n",
              "  <thead>\n",
              "    <tr style=\"text-align: right;\">\n",
              "      <th></th>\n",
              "      <th>name</th>\n",
              "      <th>date</th>\n",
              "      <th>age</th>\n",
              "      <th>label</th>\n",
              "      <th>armed</th>\n",
              "      <th>city</th>\n",
              "      <th>state</th>\n",
              "      <th>manner_of_death</th>\n",
              "      <th>gender</th>\n",
              "      <th>race</th>\n",
              "      <th>signs_of_mental_illness</th>\n",
              "      <th>year</th>\n",
              "      <th>threat_level</th>\n",
              "      <th>flee</th>\n",
              "      <th>body_camera</th>\n",
              "      <th>arms_category</th>\n",
              "    </tr>\n",
              "  </thead>\n",
              "  <tbody>\n",
              "    <tr>\n",
              "      <th>0</th>\n",
              "      <td>Tim Elliot</td>\n",
              "      <td>2015-01-02</td>\n",
              "      <td>53.0</td>\n",
              "      <td>0</td>\n",
              "      <td>35</td>\n",
              "      <td>1889</td>\n",
              "      <td>47</td>\n",
              "      <td>0</td>\n",
              "      <td>1</td>\n",
              "      <td>0</td>\n",
              "      <td>1</td>\n",
              "      <td>0</td>\n",
              "      <td>0</td>\n",
              "      <td>2</td>\n",
              "      <td>0</td>\n",
              "      <td>3</td>\n",
              "    </tr>\n",
              "    <tr>\n",
              "      <th>1</th>\n",
              "      <td>Lewis Lee Lembke</td>\n",
              "      <td>2015-01-02</td>\n",
              "      <td>47.0</td>\n",
              "      <td>0</td>\n",
              "      <td>35</td>\n",
              "      <td>33</td>\n",
              "      <td>37</td>\n",
              "      <td>0</td>\n",
              "      <td>1</td>\n",
              "      <td>5</td>\n",
              "      <td>0</td>\n",
              "      <td>0</td>\n",
              "      <td>0</td>\n",
              "      <td>2</td>\n",
              "      <td>0</td>\n",
              "      <td>3</td>\n",
              "    </tr>\n",
              "    <tr>\n",
              "      <th>2</th>\n",
              "      <td>John Paul Quintero</td>\n",
              "      <td>2015-01-03</td>\n",
              "      <td>23.0</td>\n",
              "      <td>1</td>\n",
              "      <td>81</td>\n",
              "      <td>2236</td>\n",
              "      <td>16</td>\n",
              "      <td>1</td>\n",
              "      <td>1</td>\n",
              "      <td>2</td>\n",
              "      <td>0</td>\n",
              "      <td>0</td>\n",
              "      <td>1</td>\n",
              "      <td>2</td>\n",
              "      <td>0</td>\n",
              "      <td>9</td>\n",
              "    </tr>\n",
              "    <tr>\n",
              "      <th>3</th>\n",
              "      <td>Matthew Hoffman</td>\n",
              "      <td>2015-01-04</td>\n",
              "      <td>32.0</td>\n",
              "      <td>0</td>\n",
              "      <td>80</td>\n",
              "      <td>1826</td>\n",
              "      <td>4</td>\n",
              "      <td>0</td>\n",
              "      <td>1</td>\n",
              "      <td>5</td>\n",
              "      <td>1</td>\n",
              "      <td>0</td>\n",
              "      <td>0</td>\n",
              "      <td>2</td>\n",
              "      <td>0</td>\n",
              "      <td>6</td>\n",
              "    </tr>\n",
              "    <tr>\n",
              "      <th>4</th>\n",
              "      <td>Michael Rodriguez</td>\n",
              "      <td>2015-01-04</td>\n",
              "      <td>39.0</td>\n",
              "      <td>0</td>\n",
              "      <td>59</td>\n",
              "      <td>647</td>\n",
              "      <td>5</td>\n",
              "      <td>0</td>\n",
              "      <td>1</td>\n",
              "      <td>2</td>\n",
              "      <td>0</td>\n",
              "      <td>0</td>\n",
              "      <td>0</td>\n",
              "      <td>2</td>\n",
              "      <td>0</td>\n",
              "      <td>7</td>\n",
              "    </tr>\n",
              "  </tbody>\n",
              "</table>\n",
              "</div>"
            ],
            "text/plain": [
              "                 name        date   age  ...  flee  body_camera  arms_category\n",
              "0          Tim Elliot  2015-01-02  53.0  ...     2            0              3\n",
              "1    Lewis Lee Lembke  2015-01-02  47.0  ...     2            0              3\n",
              "2  John Paul Quintero  2015-01-03  23.0  ...     2            0              9\n",
              "3     Matthew Hoffman  2015-01-04  32.0  ...     2            0              6\n",
              "4   Michael Rodriguez  2015-01-04  39.0  ...     2            0              7\n",
              "\n",
              "[5 rows x 16 columns]"
            ]
          },
          "metadata": {
            "tags": []
          },
          "execution_count": 97
        }
      ]
    },
    {
      "cell_type": "code",
      "metadata": {
        "id": "p7IA7mmip_zs",
        "outputId": "cd9a749d-4ff9-4034-c336-80d112fb9161",
        "colab": {
          "base_uri": "https://localhost:8080/"
        }
      },
      "source": [
        "df_copy = df.copy()\n",
        "df_copy.info()"
      ],
      "execution_count": 98,
      "outputs": [
        {
          "output_type": "stream",
          "text": [
            "<class 'pandas.core.frame.DataFrame'>\n",
            "RangeIndex: 4895 entries, 0 to 4894\n",
            "Data columns (total 16 columns):\n",
            " #   Column                   Non-Null Count  Dtype  \n",
            "---  ------                   --------------  -----  \n",
            " 0   name                     4895 non-null   object \n",
            " 1   date                     4895 non-null   object \n",
            " 2   age                      4895 non-null   float64\n",
            " 3   label                    4895 non-null   int64  \n",
            " 4   armed                    4895 non-null   int64  \n",
            " 5   city                     4895 non-null   int64  \n",
            " 6   state                    4895 non-null   int64  \n",
            " 7   manner_of_death          4895 non-null   int64  \n",
            " 8   gender                   4895 non-null   int64  \n",
            " 9   race                     4895 non-null   int64  \n",
            " 10  signs_of_mental_illness  4895 non-null   int64  \n",
            " 11  year                     4895 non-null   int64  \n",
            " 12  threat_level             4895 non-null   int64  \n",
            " 13  flee                     4895 non-null   int64  \n",
            " 14  body_camera              4895 non-null   int64  \n",
            " 15  arms_category            4895 non-null   int64  \n",
            "dtypes: float64(1), int64(13), object(2)\n",
            "memory usage: 612.0+ KB\n"
          ],
          "name": "stdout"
        }
      ]
    },
    {
      "cell_type": "code",
      "metadata": {
        "id": "W1f2aPhoqBII",
        "outputId": "969b5377-5a4c-421c-800a-9f5899a64a2f",
        "colab": {
          "base_uri": "https://localhost:8080/"
        }
      },
      "source": [
        "df_copy.shape"
      ],
      "execution_count": 99,
      "outputs": [
        {
          "output_type": "execute_result",
          "data": {
            "text/plain": [
              "(4895, 16)"
            ]
          },
          "metadata": {
            "tags": []
          },
          "execution_count": 99
        }
      ]
    },
    {
      "cell_type": "markdown",
      "metadata": {
        "id": "Q0SCNgEFqWoi"
      },
      "source": [
        "**Model Building**"
      ]
    },
    {
      "cell_type": "code",
      "metadata": {
        "id": "Sqo7ud4XqebC"
      },
      "source": [
        "import warnings\n",
        "warnings.filterwarnings('ignore') \n",
        "\n",
        "from sklearn.utils import shuffle\n",
        "\n",
        "from sklearn.linear_model import LogisticRegression\n",
        "\n",
        "import matplotlib.pyplot as plt\n",
        "from sklearn.metrics import roc_curve\n",
        "from sklearn.metrics import roc_auc_score\n",
        "\n",
        "import math\n",
        "import keras\n",
        "from keras.models import Sequential\n",
        "from keras.layers import Dense\n",
        "from keras.layers import Dropout\n",
        "from keras.layers import *\n",
        "from sklearn.preprocessing import MinMaxScaler\n",
        "from sklearn.metrics import mean_squared_error\n",
        "from sklearn.metrics import mean_absolute_error\n",
        "from keras.callbacks import EarlyStopping"
      ],
      "execution_count": 100,
      "outputs": []
    },
    {
      "cell_type": "code",
      "metadata": {
        "id": "Dqihbynnqgjv",
        "outputId": "d667a8b5-671b-405b-9d1b-b3703e1fcf4f",
        "colab": {
          "base_uri": "https://localhost:8080/"
        }
      },
      "source": [
        "train, test = train_test_split(df_copy, test_size=0.20, random_state=100)\n",
        "print(f'train shape: {train.shape}')\n",
        "print(f'test shape: {test.shape}')"
      ],
      "execution_count": 101,
      "outputs": [
        {
          "output_type": "stream",
          "text": [
            "train shape: (3916, 16)\n",
            "test shape: (979, 16)\n"
          ],
          "name": "stdout"
        }
      ]
    },
    {
      "cell_type": "code",
      "metadata": {
        "id": "En-gV_Okqtro"
      },
      "source": [
        "train = shuffle(train)\n",
        "\n",
        "train_features = train.drop(columns=['name','date','label'])\n",
        "train_target = train['label']\n",
        "\n",
        "test_features = test.drop(columns=['name','date','label'])\n",
        "test_target = test['label']"
      ],
      "execution_count": 102,
      "outputs": []
    },
    {
      "cell_type": "code",
      "metadata": {
        "id": "PJUn27Qaq7qf",
        "outputId": "ba474c46-f444-4ff3-ce38-f55b8eee4191",
        "colab": {
          "base_uri": "https://localhost:8080/"
        }
      },
      "source": [
        "train_target.value_counts()"
      ],
      "execution_count": 103,
      "outputs": [
        {
          "output_type": "execute_result",
          "data": {
            "text/plain": [
              "0    3072\n",
              "1     844\n",
              "Name: label, dtype: int64"
            ]
          },
          "metadata": {
            "tags": []
          },
          "execution_count": 103
        }
      ]
    },
    {
      "cell_type": "code",
      "metadata": {
        "id": "nd3-YSnkrAaT"
      },
      "source": [
        "# Oversampling the undersampled labels\n",
        "import imblearn\n",
        "from imblearn.over_sampling import SMOTE\n",
        "smote = SMOTE(random_state=0)\n",
        "X, y = smote.fit_sample(train_features, train_target)\n",
        "\n",
        "# converting ndarray to dataframe\n",
        "X = pd.DataFrame(X, columns=train_features.columns)\n",
        "y = pd.Series(y, name=train_target.name)"
      ],
      "execution_count": 104,
      "outputs": []
    },
    {
      "cell_type": "code",
      "metadata": {
        "id": "KpRQ_xS2c8Yk",
        "outputId": "bbf234f3-612b-4c99-da64-5cbbdb7c303f",
        "colab": {
          "base_uri": "https://localhost:8080/",
          "height": 198
        }
      },
      "source": [
        "X.head()"
      ],
      "execution_count": 105,
      "outputs": [
        {
          "output_type": "execute_result",
          "data": {
            "text/html": [
              "<div>\n",
              "<style scoped>\n",
              "    .dataframe tbody tr th:only-of-type {\n",
              "        vertical-align: middle;\n",
              "    }\n",
              "\n",
              "    .dataframe tbody tr th {\n",
              "        vertical-align: top;\n",
              "    }\n",
              "\n",
              "    .dataframe thead th {\n",
              "        text-align: right;\n",
              "    }\n",
              "</style>\n",
              "<table border=\"1\" class=\"dataframe\">\n",
              "  <thead>\n",
              "    <tr style=\"text-align: right;\">\n",
              "      <th></th>\n",
              "      <th>age</th>\n",
              "      <th>armed</th>\n",
              "      <th>city</th>\n",
              "      <th>state</th>\n",
              "      <th>manner_of_death</th>\n",
              "      <th>gender</th>\n",
              "      <th>race</th>\n",
              "      <th>signs_of_mental_illness</th>\n",
              "      <th>year</th>\n",
              "      <th>threat_level</th>\n",
              "      <th>flee</th>\n",
              "      <th>body_camera</th>\n",
              "      <th>arms_category</th>\n",
              "    </tr>\n",
              "  </thead>\n",
              "  <tbody>\n",
              "    <tr>\n",
              "      <th>0</th>\n",
              "      <td>29.0</td>\n",
              "      <td>35.0</td>\n",
              "      <td>1424.0</td>\n",
              "      <td>34.0</td>\n",
              "      <td>0.0</td>\n",
              "      <td>1.0</td>\n",
              "      <td>1.0</td>\n",
              "      <td>0.0</td>\n",
              "      <td>4.0</td>\n",
              "      <td>0.0</td>\n",
              "      <td>2.0</td>\n",
              "      <td>1.0</td>\n",
              "      <td>3.0</td>\n",
              "    </tr>\n",
              "    <tr>\n",
              "      <th>1</th>\n",
              "      <td>42.0</td>\n",
              "      <td>86.0</td>\n",
              "      <td>1727.0</td>\n",
              "      <td>4.0</td>\n",
              "      <td>1.0</td>\n",
              "      <td>1.0</td>\n",
              "      <td>3.0</td>\n",
              "      <td>1.0</td>\n",
              "      <td>4.0</td>\n",
              "      <td>1.0</td>\n",
              "      <td>1.0</td>\n",
              "      <td>0.0</td>\n",
              "      <td>0.0</td>\n",
              "    </tr>\n",
              "    <tr>\n",
              "      <th>2</th>\n",
              "      <td>54.0</td>\n",
              "      <td>35.0</td>\n",
              "      <td>531.0</td>\n",
              "      <td>30.0</td>\n",
              "      <td>0.0</td>\n",
              "      <td>1.0</td>\n",
              "      <td>5.0</td>\n",
              "      <td>1.0</td>\n",
              "      <td>0.0</td>\n",
              "      <td>0.0</td>\n",
              "      <td>2.0</td>\n",
              "      <td>0.0</td>\n",
              "      <td>3.0</td>\n",
              "    </tr>\n",
              "    <tr>\n",
              "      <th>3</th>\n",
              "      <td>26.0</td>\n",
              "      <td>82.0</td>\n",
              "      <td>936.0</td>\n",
              "      <td>35.0</td>\n",
              "      <td>0.0</td>\n",
              "      <td>1.0</td>\n",
              "      <td>0.0</td>\n",
              "      <td>0.0</td>\n",
              "      <td>1.0</td>\n",
              "      <td>1.0</td>\n",
              "      <td>1.0</td>\n",
              "      <td>0.0</td>\n",
              "      <td>10.0</td>\n",
              "    </tr>\n",
              "    <tr>\n",
              "      <th>4</th>\n",
              "      <td>40.0</td>\n",
              "      <td>35.0</td>\n",
              "      <td>1652.0</td>\n",
              "      <td>9.0</td>\n",
              "      <td>0.0</td>\n",
              "      <td>1.0</td>\n",
              "      <td>2.0</td>\n",
              "      <td>0.0</td>\n",
              "      <td>5.0</td>\n",
              "      <td>0.0</td>\n",
              "      <td>0.0</td>\n",
              "      <td>0.0</td>\n",
              "      <td>3.0</td>\n",
              "    </tr>\n",
              "  </tbody>\n",
              "</table>\n",
              "</div>"
            ],
            "text/plain": [
              "    age  armed    city  state  ...  threat_level  flee  body_camera  arms_category\n",
              "0  29.0   35.0  1424.0   34.0  ...           0.0   2.0          1.0            3.0\n",
              "1  42.0   86.0  1727.0    4.0  ...           1.0   1.0          0.0            0.0\n",
              "2  54.0   35.0   531.0   30.0  ...           0.0   2.0          0.0            3.0\n",
              "3  26.0   82.0   936.0   35.0  ...           1.0   1.0          0.0           10.0\n",
              "4  40.0   35.0  1652.0    9.0  ...           0.0   0.0          0.0            3.0\n",
              "\n",
              "[5 rows x 13 columns]"
            ]
          },
          "metadata": {
            "tags": []
          },
          "execution_count": 105
        }
      ]
    },
    {
      "cell_type": "code",
      "metadata": {
        "id": "mKpGcqE0gqfW",
        "outputId": "3976908f-6764-4062-ac68-04a14c28343c",
        "colab": {
          "base_uri": "https://localhost:8080/"
        }
      },
      "source": [
        "y.head()"
      ],
      "execution_count": 106,
      "outputs": [
        {
          "output_type": "execute_result",
          "data": {
            "text/plain": [
              "0    0\n",
              "1    0\n",
              "2    0\n",
              "3    0\n",
              "4    0\n",
              "Name: label, dtype: int64"
            ]
          },
          "metadata": {
            "tags": []
          },
          "execution_count": 106
        }
      ]
    },
    {
      "cell_type": "code",
      "metadata": {
        "id": "MeJAn4VAS9GI"
      },
      "source": [
        "from numpy import zeros\n",
        "from numpy import asarray\n",
        "from numpy import load\n",
        "from numpy import ones\n",
        "from numpy import asarray\n",
        "from sklearn.model_selection import train_test_split\n",
        "\n",
        "from keras.layers import Conv2D\n",
        "from keras.layers import MaxPooling2D\n",
        "from keras.layers import Flatten\n",
        "from keras.optimizers import SGD\n",
        "from keras.optimizers import RMSprop\n",
        "from keras import backend\n",
        "from keras.applications.vgg16 import VGG16\n",
        "from keras.models import Model\n",
        "import tensorflow as tf\n",
        "import keras\n",
        "from keras import backend as K\n",
        "from sklearn.metrics import accuracy_score"
      ],
      "execution_count": 107,
      "outputs": []
    },
    {
      "cell_type": "code",
      "metadata": {
        "id": "Yb-8LUSlTgrQ",
        "outputId": "e7268c01-24f7-49db-cc05-0959c8b7e65d",
        "colab": {
          "base_uri": "https://localhost:8080/"
        }
      },
      "source": [
        "lg = LogisticRegression(random_state=32)\n",
        "lg.fit(train_features, train_target)"
      ],
      "execution_count": 108,
      "outputs": [
        {
          "output_type": "execute_result",
          "data": {
            "text/plain": [
              "LogisticRegression(C=1.0, class_weight=None, dual=False, fit_intercept=True,\n",
              "                   intercept_scaling=1, l1_ratio=None, max_iter=100,\n",
              "                   multi_class='auto', n_jobs=None, penalty='l2',\n",
              "                   random_state=32, solver='lbfgs', tol=0.0001, verbose=0,\n",
              "                   warm_start=False)"
            ]
          },
          "metadata": {
            "tags": []
          },
          "execution_count": 108
        }
      ]
    },
    {
      "cell_type": "code",
      "metadata": {
        "id": "R-NaJxzFUDzj"
      },
      "source": [
        "lg_test_pred = lg.predict_proba(test_features)"
      ],
      "execution_count": 109,
      "outputs": []
    },
    {
      "cell_type": "code",
      "metadata": {
        "id": "RMhBdZQEUKMW"
      },
      "source": [
        "# roc curve for models\n",
        "fpr1, tpr1, thresh1 = roc_curve(test_target, lg_test_pred[:,1], pos_label=1)\n",
        "\n",
        "# roc curve for tpr = fpr \n",
        "random_probs = [0 for i in range(len(test_target))]\n",
        "p_fpr, p_tpr, _ = roc_curve(test_target, random_probs, pos_label=1)"
      ],
      "execution_count": 110,
      "outputs": []
    },
    {
      "cell_type": "code",
      "metadata": {
        "id": "HZlUVeXhUcoA",
        "outputId": "2a936050-2e41-42cf-bb3f-7baeabf07ab7",
        "colab": {
          "base_uri": "https://localhost:8080/"
        }
      },
      "source": [
        "# auc scores\n",
        "auc_score1 = roc_auc_score(test_target, lg_test_pred[:,1])\n",
        "\n",
        "print(auc_score1)"
      ],
      "execution_count": 111,
      "outputs": [
        {
          "output_type": "stream",
          "text": [
            "0.9373534697180668\n"
          ],
          "name": "stdout"
        }
      ]
    },
    {
      "cell_type": "code",
      "metadata": {
        "id": "R7QLW5HrAAUj",
        "outputId": "38c85185-33d3-4f6a-e914-f129279ebcb4",
        "colab": {
          "base_uri": "https://localhost:8080/"
        }
      },
      "source": [
        "batch_size = 128  # Batch size for training.\n",
        "epochs = 10  # Number of epochs to train for.\n",
        "\n",
        "model = Sequential()\n",
        "model.add(Dense(128, activation='relu'))\n",
        "model.add(Dropout(rate=0.2, noise_shape=None, seed=None))\n",
        "model.add(Dense(128, activation='relu'))\n",
        "model.add(Dropout(rate=0.2, noise_shape=None, seed=None))\n",
        "model.add(Dense(train['label'].nunique(), activation='softmax'))\n",
        "\n",
        "from keras.optimizers import Adam\n",
        "\n",
        "optimizer = RMSprop(learning_rate=0.001)\n",
        "#optimizer = Adam(0.0001, decay=0.00001)\n",
        "\n",
        " \n",
        "model.compile(loss='binary_crossentropy', optimizer=optimizer, metrics=['accuracy'])\n",
        "model.fit(train_features, train_target, epochs=epochs, batch_size=batch_size, validation_data=(test_features, test_target))\n"
      ],
      "execution_count": 112,
      "outputs": [
        {
          "output_type": "stream",
          "text": [
            "Epoch 1/10\n",
            "WARNING:tensorflow:Layer dense_9 is casting an input tensor from dtype float64 to the layer's dtype of float32, which is new behavior in TensorFlow 2.  The layer has dtype float32 because its dtype defaults to floatx.\n",
            "\n",
            "If you intended to run this layer in float32, you can safely ignore this warning. If in doubt, this warning is likely only an issue if you are porting a TensorFlow 1.X model to TensorFlow 2.\n",
            "\n",
            "To change all layers to have dtype float64 by default, call `tf.keras.backend.set_floatx('float64')`. To change just this layer, pass dtype='float64' to the layer constructor. If you are the author of this layer, you can disable autocasting by passing autocast=False to the base Layer constructor.\n",
            "\n",
            "31/31 [==============================] - 0s 8ms/step - loss: 7.1222 - accuracy: 0.4990 - val_loss: 7.1289 - val_accuracy: 0.2268\n",
            "Epoch 2/10\n",
            "31/31 [==============================] - 0s 3ms/step - loss: 6.9709 - accuracy: 0.6578 - val_loss: 4.3878 - val_accuracy: 0.4831\n",
            "Epoch 3/10\n",
            "31/31 [==============================] - 0s 3ms/step - loss: 6.9893 - accuracy: 0.6034 - val_loss: 6.6650 - val_accuracy: 0.7354\n",
            "Epoch 4/10\n",
            "31/31 [==============================] - 0s 3ms/step - loss: 6.9322 - accuracy: 0.6254 - val_loss: 7.2163 - val_accuracy: 0.2400\n",
            "Epoch 5/10\n",
            "31/31 [==============================] - 0s 3ms/step - loss: 6.8679 - accuracy: 0.5718 - val_loss: 6.3252 - val_accuracy: 0.7354\n",
            "Epoch 6/10\n",
            "31/31 [==============================] - 0s 4ms/step - loss: 6.8118 - accuracy: 0.6050 - val_loss: 6.1988 - val_accuracy: 0.7120\n",
            "Epoch 7/10\n",
            "31/31 [==============================] - 0s 4ms/step - loss: 6.7570 - accuracy: 0.3836 - val_loss: 6.8739 - val_accuracy: 0.2349\n",
            "Epoch 8/10\n",
            "31/31 [==============================] - 0s 4ms/step - loss: 6.6181 - accuracy: 0.5140 - val_loss: 6.5663 - val_accuracy: 0.2421\n",
            "Epoch 9/10\n",
            "31/31 [==============================] - 0s 3ms/step - loss: 6.5167 - accuracy: 0.5220 - val_loss: 6.9473 - val_accuracy: 0.7630\n",
            "Epoch 10/10\n",
            "31/31 [==============================] - 0s 4ms/step - loss: 6.5309 - accuracy: 0.6261 - val_loss: 6.9163 - val_accuracy: 0.2329\n"
          ],
          "name": "stdout"
        },
        {
          "output_type": "execute_result",
          "data": {
            "text/plain": [
              "<tensorflow.python.keras.callbacks.History at 0x7ff8d9052fd0>"
            ]
          },
          "metadata": {
            "tags": []
          },
          "execution_count": 112
        }
      ]
    },
    {
      "cell_type": "markdown",
      "metadata": {
        "id": "8YlmNChjVVvJ"
      },
      "source": [
        "**Make predictions**"
      ]
    },
    {
      "cell_type": "code",
      "metadata": {
        "id": "9p_VBs9LVXxK"
      },
      "source": [
        "new_pred = model.predict_proba(test_features)"
      ],
      "execution_count": 113,
      "outputs": []
    },
    {
      "cell_type": "code",
      "metadata": {
        "id": "rb_3jiFjVlV9"
      },
      "source": [
        "# roc curve for models\n",
        "fpr2, tpr2, thresh2 = roc_curve(test_target, new_pred[:,1], pos_label=1)\n",
        "\n",
        "# roc curve for tpr = fpr \n",
        "random_probs = [0 for i in range(len(test_target))]\n",
        "p_fpr, p_tpr, _ = roc_curve(test_target, random_probs, pos_label=1)"
      ],
      "execution_count": 114,
      "outputs": []
    },
    {
      "cell_type": "code",
      "metadata": {
        "id": "mZckOvDFVwyA",
        "outputId": "0047696d-f177-49dc-962e-7e3b9c885d1d",
        "colab": {
          "base_uri": "https://localhost:8080/"
        }
      },
      "source": [
        "# auc scores\n",
        "auc_score2 = roc_auc_score(test_target, new_pred[:,1])\n",
        "\n",
        "print(auc_score2)"
      ],
      "execution_count": 115,
      "outputs": [
        {
          "output_type": "stream",
          "text": [
            "0.5119812679257858\n"
          ],
          "name": "stdout"
        }
      ]
    },
    {
      "cell_type": "code",
      "metadata": {
        "id": "SmAQu5abWn2W"
      },
      "source": [
        "\n",
        "pred_result = test_df.copy()\n",
        "pred_result['label'] = lg_test_pred[:,1]\n",
        "unjustified_shots = pred_result[pred_result['label']>=0.6]"
      ],
      "execution_count": 116,
      "outputs": []
    },
    {
      "cell_type": "code",
      "metadata": {
        "id": "zot23z7FWnYs",
        "outputId": "d13a321f-871b-4b4c-a2ca-abd3aef35069",
        "colab": {
          "base_uri": "https://localhost:8080/",
          "height": 407
        }
      },
      "source": [
        "\n",
        "# Names of suspects whose shots were predicted as unjust, and their dates of occurance\n",
        "unjustified_shots[['name','date']]"
      ],
      "execution_count": 117,
      "outputs": [
        {
          "output_type": "execute_result",
          "data": {
            "text/html": [
              "<div>\n",
              "<style scoped>\n",
              "    .dataframe tbody tr th:only-of-type {\n",
              "        vertical-align: middle;\n",
              "    }\n",
              "\n",
              "    .dataframe tbody tr th {\n",
              "        vertical-align: top;\n",
              "    }\n",
              "\n",
              "    .dataframe thead th {\n",
              "        text-align: right;\n",
              "    }\n",
              "</style>\n",
              "<table border=\"1\" class=\"dataframe\">\n",
              "  <thead>\n",
              "    <tr style=\"text-align: right;\">\n",
              "      <th></th>\n",
              "      <th>name</th>\n",
              "      <th>date</th>\n",
              "    </tr>\n",
              "  </thead>\n",
              "  <tbody>\n",
              "    <tr>\n",
              "      <th>2048</th>\n",
              "      <td>Jacob Taulbee</td>\n",
              "      <td>2017-02-26</td>\n",
              "    </tr>\n",
              "    <tr>\n",
              "      <th>2230</th>\n",
              "      <td>Jaison Fitzgerald</td>\n",
              "      <td>2017-05-15</td>\n",
              "    </tr>\n",
              "    <tr>\n",
              "      <th>731</th>\n",
              "      <td>Matthew Dobbins</td>\n",
              "      <td>2015-10-02</td>\n",
              "    </tr>\n",
              "    <tr>\n",
              "      <th>3123</th>\n",
              "      <td>Shukri Ali Said</td>\n",
              "      <td>2018-04-28</td>\n",
              "    </tr>\n",
              "    <tr>\n",
              "      <th>1136</th>\n",
              "      <td>Brandon Stanley</td>\n",
              "      <td>2016-03-04</td>\n",
              "    </tr>\n",
              "    <tr>\n",
              "      <th>...</th>\n",
              "      <td>...</td>\n",
              "      <td>...</td>\n",
              "    </tr>\n",
              "    <tr>\n",
              "      <th>3690</th>\n",
              "      <td>Juston Landry</td>\n",
              "      <td>2019-01-11</td>\n",
              "    </tr>\n",
              "    <tr>\n",
              "      <th>1629</th>\n",
              "      <td>Robert Carrillo</td>\n",
              "      <td>2016-09-15</td>\n",
              "    </tr>\n",
              "    <tr>\n",
              "      <th>167</th>\n",
              "      <td>Monique Jenee Deckard</td>\n",
              "      <td>2015-03-08</td>\n",
              "    </tr>\n",
              "    <tr>\n",
              "      <th>2738</th>\n",
              "      <td>Mario Guevara</td>\n",
              "      <td>2017-12-02</td>\n",
              "    </tr>\n",
              "    <tr>\n",
              "      <th>970</th>\n",
              "      <td>Eric John Senegal</td>\n",
              "      <td>2016-01-04</td>\n",
              "    </tr>\n",
              "  </tbody>\n",
              "</table>\n",
              "<p>189 rows × 2 columns</p>\n",
              "</div>"
            ],
            "text/plain": [
              "                       name        date\n",
              "2048          Jacob Taulbee  2017-02-26\n",
              "2230      Jaison Fitzgerald  2017-05-15\n",
              "731         Matthew Dobbins  2015-10-02\n",
              "3123        Shukri Ali Said  2018-04-28\n",
              "1136        Brandon Stanley  2016-03-04\n",
              "...                     ...         ...\n",
              "3690          Juston Landry  2019-01-11\n",
              "1629        Robert Carrillo  2016-09-15\n",
              "167   Monique Jenee Deckard  2015-03-08\n",
              "2738          Mario Guevara  2017-12-02\n",
              "970       Eric John Senegal  2016-01-04\n",
              "\n",
              "[189 rows x 2 columns]"
            ]
          },
          "metadata": {
            "tags": []
          },
          "execution_count": 117
        }
      ]
    },
    {
      "cell_type": "code",
      "metadata": {
        "id": "4DId6MeMVwx_"
      },
      "source": [
        "pred_result = test_df.copy()\n",
        "pred_result['label'] = new_pred[:,1]\n",
        "unjustified_shots = pred_result[pred_result['label']>=0.6]"
      ],
      "execution_count": 118,
      "outputs": []
    },
    {
      "cell_type": "code",
      "metadata": {
        "id": "GEhb52HsVz3h",
        "outputId": "e4cfd767-b0a7-4cf4-f1f0-2070d3aa17ce",
        "colab": {
          "base_uri": "https://localhost:8080/",
          "height": 407
        }
      },
      "source": [
        "\n",
        "# Names of suspects whose shots were predicted as unjust, and their dates of occurance\n",
        "unjustified_shots[['name','date']]"
      ],
      "execution_count": 119,
      "outputs": [
        {
          "output_type": "execute_result",
          "data": {
            "text/html": [
              "<div>\n",
              "<style scoped>\n",
              "    .dataframe tbody tr th:only-of-type {\n",
              "        vertical-align: middle;\n",
              "    }\n",
              "\n",
              "    .dataframe tbody tr th {\n",
              "        vertical-align: top;\n",
              "    }\n",
              "\n",
              "    .dataframe thead th {\n",
              "        text-align: right;\n",
              "    }\n",
              "</style>\n",
              "<table border=\"1\" class=\"dataframe\">\n",
              "  <thead>\n",
              "    <tr style=\"text-align: right;\">\n",
              "      <th></th>\n",
              "      <th>name</th>\n",
              "      <th>date</th>\n",
              "    </tr>\n",
              "  </thead>\n",
              "  <tbody>\n",
              "    <tr>\n",
              "      <th>416</th>\n",
              "      <td>QuanDavier Hicks</td>\n",
              "      <td>2015-06-09</td>\n",
              "    </tr>\n",
              "    <tr>\n",
              "      <th>2866</th>\n",
              "      <td>Michael Hansford</td>\n",
              "      <td>2018-01-29</td>\n",
              "    </tr>\n",
              "    <tr>\n",
              "      <th>1043</th>\n",
              "      <td>Bruce Kelley</td>\n",
              "      <td>2016-01-31</td>\n",
              "    </tr>\n",
              "    <tr>\n",
              "      <th>2350</th>\n",
              "      <td>Holden Gorka</td>\n",
              "      <td>2017-07-03</td>\n",
              "    </tr>\n",
              "    <tr>\n",
              "      <th>3426</th>\n",
              "      <td>Timmy Henley</td>\n",
              "      <td>2018-09-04</td>\n",
              "    </tr>\n",
              "    <tr>\n",
              "      <th>...</th>\n",
              "      <td>...</td>\n",
              "      <td>...</td>\n",
              "    </tr>\n",
              "    <tr>\n",
              "      <th>3757</th>\n",
              "      <td>Danny Rodriguez</td>\n",
              "      <td>2019-02-07</td>\n",
              "    </tr>\n",
              "    <tr>\n",
              "      <th>3291</th>\n",
              "      <td>Craig Yelton</td>\n",
              "      <td>2018-07-08</td>\n",
              "    </tr>\n",
              "    <tr>\n",
              "      <th>2738</th>\n",
              "      <td>Mario Guevara</td>\n",
              "      <td>2017-12-02</td>\n",
              "    </tr>\n",
              "    <tr>\n",
              "      <th>970</th>\n",
              "      <td>Eric John Senegal</td>\n",
              "      <td>2016-01-04</td>\n",
              "    </tr>\n",
              "    <tr>\n",
              "      <th>1004</th>\n",
              "      <td>Corey Lee Henderson</td>\n",
              "      <td>2016-01-17</td>\n",
              "    </tr>\n",
              "  </tbody>\n",
              "</table>\n",
              "<p>949 rows × 2 columns</p>\n",
              "</div>"
            ],
            "text/plain": [
              "                     name        date\n",
              "416      QuanDavier Hicks  2015-06-09\n",
              "2866     Michael Hansford  2018-01-29\n",
              "1043         Bruce Kelley  2016-01-31\n",
              "2350         Holden Gorka  2017-07-03\n",
              "3426         Timmy Henley  2018-09-04\n",
              "...                   ...         ...\n",
              "3757      Danny Rodriguez  2019-02-07\n",
              "3291         Craig Yelton  2018-07-08\n",
              "2738        Mario Guevara  2017-12-02\n",
              "970     Eric John Senegal  2016-01-04\n",
              "1004  Corey Lee Henderson  2016-01-17\n",
              "\n",
              "[949 rows x 2 columns]"
            ]
          },
          "metadata": {
            "tags": []
          },
          "execution_count": 119
        }
      ]
    },
    {
      "cell_type": "code",
      "metadata": {
        "id": "wj07bpV5V3RF"
      },
      "source": [
        ""
      ],
      "execution_count": 119,
      "outputs": []
    }
  ]
}