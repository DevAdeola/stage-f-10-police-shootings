{
 "cells": [
  {
   "cell_type": "code",
   "execution_count": 1,
   "metadata": {},
   "outputs": [],
   "source": [
    "output_dir = \"/home/jovyan/20-restaurant-sales/data/out\""
   ]
  },
  {
   "cell_type": "code",
   "execution_count": 2,
   "metadata": {},
   "outputs": [],
   "source": [
    "def get_data(download_url, out_path):\n",
    "    import subprocess\n",
    "    import pickle\n",
    "    import sys\n",
    "    import subprocess\n",
    "    \n",
    "    \n",
    "    subprocess.run([sys.executable, '-m', 'pip', 'install', 'pandas'])\n",
    "    \n",
    "    import pandas as pd\n",
    "    \n",
    "    \n",
    "    default_url = \"https://storage.googleapis.com/my-mldata/restaurant-revenue-prediction.zip\"\n",
    "    url = download_url if download_url else default_url\n",
    "    \n",
    "    subprocess.run([\"wget\", \"-O\", \"restaurant-revenue-prediction.zip\", url])\n",
    "    \n",
    "    subprocess.run([\"unzip\", \"restaurant-revenue-prediction.zip\"])\n",
    "    subprocess.run([\"unzip\", \"*.zip\"])\n",
    "    print(\"Files Unzipped....\")\n",
    "    subprocess.call([\"rm\", \"-r\", \"*.zip\"])\n",
    "    \n",
    "    train_data = pd.read_csv(\"train.csv\")\n",
    "    test_data = pd.read_csv(\"test.csv\")\n",
    "    \n",
    "    with open(f\"{out_path}/train_data.pkl\", \"wb\") as train:\n",
    "        pickle.dump(train_data, train)\n",
    "        \n",
    "    with open(f\"{out_path}/test_data.pkl\", \"wb\") as test:\n",
    "        pickle.dump(test_data, test)\n",
    "    "
   ]
  }
 ],
 "metadata": {
  "kernelspec": {
   "display_name": "Python 3",
   "language": "python",
   "name": "python3"
  },
  "language_info": {
   "codemirror_mode": {
    "name": "ipython",
    "version": 3
   },
   "file_extension": ".py",
   "mimetype": "text/x-python",
   "name": "python",
   "nbconvert_exporter": "python",
   "pygments_lexer": "ipython3",
   "version": "3.6.9"
  }
 },
 "nbformat": 4,
 "nbformat_minor": 4
}
