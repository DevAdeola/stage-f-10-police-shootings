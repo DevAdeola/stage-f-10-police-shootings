{
 "cells": [
  {
   "cell_type": "code",
   "execution_count": 107,
   "metadata": {},
   "outputs": [],
   "source": [
    "%%bash\n",
    "\n",
    "# pip install --user pandas kfp kubeflow-metadata\n",
    "# pip install Ipython --user\n",
    "# pip install config --user\n",
    "# pip install kubernetes --user\n",
    "# pip install sklearn"
   ]
  },
  {
   "cell_type": "code",
   "execution_count": 108,
   "metadata": {},
   "outputs": [],
   "source": [
    "# from ipython.display import display_html\n",
    "# def restart_kernel():\n",
    "#     display_html(\"<script>Jupyter.notebook.kernel.restart()</script>\", raw=True)\n",
    "    \n",
    "# restart_kernel()"
   ]
  },
  {
   "cell_type": "code",
   "execution_count": 109,
   "metadata": {},
   "outputs": [],
   "source": [
    "import kfp.dsl as dsl\n",
    "import kfp\n",
    "import pandas as pd\n",
    "import kfp.gcp as gcp\n",
    "from kfp import components\n",
    "import json\n",
    "from string import Template\n",
    "from config import Config\n",
    "import os\n",
    "import kubernetes\n",
    "import yaml\n",
    "import sklearn"
   ]
  },
  {
   "cell_type": "code",
   "execution_count": null,
   "metadata": {},
   "outputs": [],
   "source": []
  },
  {
   "cell_type": "code",
   "execution_count": 110,
   "metadata": {},
   "outputs": [
    {
     "name": "stdout",
     "output_type": "stream",
     "text": [
      "{'apiVersion': 'batch/v1', 'kind': 'Job', 'metadata': {'name': '{{.Trial}}', 'namespace': '{{.Namespace}}'}, 'spec': {'template': {'spec': {'restartPolicy': 'Never', 'containers': [{'name': '{{.Trial}}', 'image': '$image', 'imagePullPolicy': 'Always', 'command': ['python /opt/model.py --tfmode=local {{- with .Hyperparameters}} {{- range .}} {{.Name}}={{.Value}} {{- end}} {{- end}}']}]}}}}\n"
     ]
    }
   ],
   "source": [
    "with open(\"./train_image/train_template.yaml\") as yml_in:\n",
    "    b = yaml.safe_load(yml_in)\n",
    "print(b)\n",
    "# json.dumps(b)\n",
    "train_temp = Template(\"\"\"\n",
    "    {\n",
    "  \"apiVersion\": \"batch/v1,\",\n",
    "  \"kind\": \"Job\",\n",
    "  \"metadata\": {\n",
    "    \"name\": \"sklearn-job\",\n",
    "    \"namespace\": \"$namespace\"\n",
    "  },\n",
    "  \"spec\": {\n",
    "    \"template\": {\n",
    "      \"spec\": {\n",
    "        \"restartPolicy\": \"Never\",\n",
    "        \"containers\": [\n",
    "          {\n",
    "            \"name\": \"sklearn-job\",\n",
    "            \"image\": \"$image\",\n",
    "            \"imagePullPolicy\": \"Always\",\n",
    "            \"command\": [\n",
    "              \"python /opt/model.py\"\n",
    "            ]\n",
    "          }\n",
    "        ]\n",
    "      }\n",
    "    }\n",
    "  }\n",
    "}\n",
    "\n",
    "\"\"\")\n"
   ]
  },
  {
   "cell_type": "code",
   "execution_count": 111,
   "metadata": {},
   "outputs": [],
   "source": [
    "# trainjson = train_temp.substitute({'image': 'iamrock'})\n",
    "# trainjson"
   ]
  },
  {
   "cell_type": "code",
   "execution_count": 112,
   "metadata": {},
   "outputs": [
    {
     "data": {
      "text/plain": [
       "'\"\\\\n    {\\\\n  \\\\\"apiVersion\\\\\": \\\\\"batch/v1,\\\\\",\\\\n  \\\\\"kind\\\\\": \\\\\"Job\\\\\",\\\\n  \\\\\"metadata\\\\\": {\\\\n    \\\\\"name\\\\\": \\\\\"{{.Trial}}\\\\\",\\\\n    \\\\\"namespace\\\\\": \\\\\"{{.Namespace}}\\\\\"\\\\n  },\\\\n  \\\\\"spec\\\\\": {\\\\n    \\\\\"template\\\\\": {\\\\n      \\\\\"spec\\\\\": {\\\\n        \\\\\"restartPolicy\\\\\": \\\\\"Never\\\\\",\\\\n        \\\\\"containers\\\\\": [\\\\n          {\\\\n            \\\\\"name\\\\\": \\\\\"{{.Trial}}\\\\\",\\\\n            \\\\\"image\\\\\": \\\\\"iamrock\\\\\",\\\\n            \\\\\"imagePullPolicy\\\\\": \\\\\"Always\\\\\",\\\\n            \\\\\"command\\\\\": [\\\\n              \\\\\"python /opt/model.py --tfmode=local {{- with .Hyperparameters}} {{- range .}} {{.Name}}={{.Value}} {{- end}} {{- end}}\\\\\"\\\\n            ]\\\\n          }\\\\n        ]\\\\n      }\\\\n    }\\\\n  }\\\\n}\\\\n\\\\n\"'"
      ]
     },
     "execution_count": 112,
     "metadata": {},
     "output_type": "execute_result"
    }
   ],
   "source": [
    "json.dumps(trainjson)"
   ]
  },
  {
   "cell_type": "code",
   "execution_count": 113,
   "metadata": {},
   "outputs": [
    {
     "name": "stdout",
     "output_type": "stream",
     "text": [
      "/secret/gcp/user-gcp-sa.json\r\n"
     ]
    }
   ],
   "source": [
    "!echo $GOOGLE_APPLICATION_CREDENTIALS"
   ]
  },
  {
   "cell_type": "code",
   "execution_count": 114,
   "metadata": {},
   "outputs": [],
   "source": [
    "def convert_result(result) -> str:\n",
    "    import json\n",
    "    hyperparameters = json.loads(result)\n",
    "    args = []\n",
    "    print(type(hyperparameters))\n",
    "    for key, value in hyperparameters.items():\n",
    "        args.append(\"{0}={1}\".format(key, value))\n",
    "        \n",
    "    return \" \".join(args)\n",
    "\n",
    "\n",
    "\n",
    "\n",
    "\n",
    "# x = '{\"name\":\"John\", \"age\":30, \"city\":\"New York\", \"value\": \"none yet\"}'\n",
    "# convert_result(x)       "
   ]
  },
  {
   "cell_type": "code",
   "execution_count": 115,
   "metadata": {},
   "outputs": [],
   "source": [
    "@dsl.pipeline(\n",
    "    name=\"Police-Shootings-Justification-Prediction\",\n",
    "    description=\"A pipeline to train and serve police shootings justification in the United States\"\n",
    ")\n",
    "\n",
    "def police_shootings_pipeline(\n",
    "    name=\"police-shootings\",\n",
    "    katib_namespace=\"kubeflow-olawunmi1602\",\n",
    "    goal=0.9,\n",
    "    max_trial_count=3,\n",
    "    parallel_trial_count=3,\n",
    "    training_steps=5,\n",
    "    training_image=\"gcr.io/kubeflow-292422/police-shootings-train-sklearn:latest\",\n",
    "    training_namespace=\"kubeflow\",\n",
    "    serving_name=\"police-shootings-server\",\n",
    "    serving_namespace=\"kubeflow\",\n",
    "    serving_export_dir=\"gs://police-shootings/export\",\n",
    "    transformer_image=\"gcr.io/kubeflow-292422/police-shootings-processing:latest\"\n",
    "):\n",
    "    \n",
    "    objectiveConfig = {\n",
    "        \"type\": \"maximize\",\n",
    "        \"goal\": goal,\n",
    "        \"objectiveMetricName\": \"auc_score\",\n",
    "        \"additionalMetricNames\": [\"loss\", \"accuracy\"]\n",
    "    }\n",
    "    \n",
    "    algorithmConfig = {\n",
    "        \"algorithmName\": \"random\"\n",
    "    }\n",
    "    \n",
    "    metricsCollectorSpec = {\n",
    "        \"collector\": {\n",
    "            \"kind\": \"StdOut\"\n",
    "        }\n",
    "    }\n",
    "    \n",
    "    parameters = [\n",
    "        {\"name\": \"--tf-learning-rate\", \"parameter-type\": \"double\", \"feasibleSpace\": {\"min\": \"0.001\", \"max\": \"0.005\"}}\n",
    "    ]\n",
    "    \n",
    "    train_template = train_temp\n",
    "    train_json = train_template.substitute({'image': str(training_image), 'namespace': str(katib_namespace)})\n",
    "    \n",
    "    trialTemplate = {\n",
    "        \"goTemplate\": {\n",
    "            \"rawTemplate\": json.dumps(train_json)\n",
    "        }\n",
    "    }\n",
    "    \n",
    "    katib_experiment_launcher_op = components.load_component_from_url(\n",
    "        'https://raw.githubusercontent.com/kubeflow/pipelines/master/components/kubeflow/katib-launcher/component.yaml'\n",
    "    )\n",
    "    \n",
    "    katib_op = katib_experiment_launcher_op(\n",
    "        experiment_name=name,\n",
    "        experiment_namespace=katib_namespace,\n",
    "        parallel_trial_count=parallel_trial_count,\n",
    "        max_trial_count=max_trial_count,\n",
    "        objective=str(objectiveConfig),\n",
    "        algorithm=str(algorithmConfig),\n",
    "        trial_template=str(trialTemplate),\n",
    "        parameters=str(parameters),\n",
    "        metrics_collector=str(metricsCollectorSpec),\n",
    "        delete_finished_experiment=False\n",
    "    )\n",
    "    \n",
    "    convert_op = components.func_to_container_op(convert_result)\n",
    "    op2 = convert_op(katib_op.output)"
   ]
  },
  {
   "cell_type": "code",
   "execution_count": 116,
   "metadata": {},
   "outputs": [
    {
     "name": "stderr",
     "output_type": "stream",
     "text": [
      "/home/jovyan/.local/lib/python3.6/site-packages/kfp/components/_data_passing.py:168: UserWarning: Missing type name was inferred as \"Float\" based on the value \"0.9\".\n",
      "  warnings.warn('Missing type name was inferred as \"{}\" based on the value \"{}\".'.format(type_name, str(value)))\n",
      "/home/jovyan/.local/lib/python3.6/site-packages/kfp/components/_data_passing.py:168: UserWarning: Missing type name was inferred as \"Integer\" based on the value \"3\".\n",
      "  warnings.warn('Missing type name was inferred as \"{}\" based on the value \"{}\".'.format(type_name, str(value)))\n",
      "/home/jovyan/.local/lib/python3.6/site-packages/kfp/components/_data_passing.py:168: UserWarning: Missing type name was inferred as \"Integer\" based on the value \"5\".\n",
      "  warnings.warn('Missing type name was inferred as \"{}\" based on the value \"{}\".'.format(type_name, str(value)))\n",
      "/home/jovyan/.local/lib/python3.6/site-packages/kfp/components/_data_passing.py:189: UserWarning: There are no registered serializers from type \"bool\" to type \"Bool\", so the value will be serializers as string \"False\".\n",
      "  serialized_value),\n"
     ]
    },
    {
     "data": {
      "text/html": [
       "Experiment link <a href=\"/pipeline/#/experiments/details/4b0db4cd-3246-45f3-a135-6dfe374ec744\" target=\"_blank\" >here</a>"
      ],
      "text/plain": [
       "<IPython.core.display.HTML object>"
      ]
     },
     "metadata": {},
     "output_type": "display_data"
    },
    {
     "data": {
      "text/html": [
       "Run link <a href=\"/pipeline/#/runs/details/ef1771b8-5103-4c23-b247-5e1bc0df515a\" target=\"_blank\" >here</a>"
      ],
      "text/plain": [
       "<IPython.core.display.HTML object>"
      ]
     },
     "metadata": {},
     "output_type": "display_data"
    }
   ],
   "source": [
    "pipeline = kfp.Client().create_run_from_pipeline_func(police_shootings_pipeline, arguments={})"
   ]
  }
 ],
 "metadata": {
  "kernelspec": {
   "display_name": "Python 3",
   "language": "python",
   "name": "python3"
  },
  "language_info": {
   "codemirror_mode": {
    "name": "ipython",
    "version": 3
   },
   "file_extension": ".py",
   "mimetype": "text/x-python",
   "name": "python",
   "nbconvert_exporter": "python",
   "pygments_lexer": "ipython3",
   "version": "3.6.9"
  }
 },
 "nbformat": 4,
 "nbformat_minor": 4
}
